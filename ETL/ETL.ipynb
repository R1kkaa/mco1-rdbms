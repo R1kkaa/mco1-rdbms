{
  "cells": [
    {
      "cell_type": "code",
      "execution_count": 234,
      "metadata": {
        "colab": {
          "base_uri": "https://localhost:8080/"
        },
        "id": "YbbQwJtf1X9C",
        "outputId": "570f6e5a-039c-460f-83fc-44fe5ff3ddea"
      },
      "outputs": [],
      "source": [
        "import pandas as pd\n",
        "\n",
        "#read the json and switch the rows and columns\n",
        "df = pd.read_json('games.json').transpose().dropna()\n",
        "\n",
        "#set the columns to tuples instead of lists for easier operation\n",
        "df['developers'] = df['developers'].apply(lambda x: tuple(x))\n",
        "df['publishers'] = df['publishers'].apply(lambda x: tuple(x))\n",
        "df['categories'] = df['categories'].apply(lambda x: tuple(x))\n",
        "df['genres'] = df['genres'].apply(lambda x: tuple(x))\n",
        "#df['supported_languages'] = df['supported_languages'].apply(lambda x: tuple(x))\n",
        "#df['full_audio_languages'] = df['full_audio_languages'].apply(lambda x: tuple(x))\n"
      ]
    },
    {
      "cell_type": "code",
      "execution_count": 235,
      "metadata": {
        "colab": {
          "base_uri": "https://localhost:8080/"
        },
        "id": "FOKhyNhj3yKd",
        "outputId": "e9b396e2-264d-4375-876f-8c8ef8768e6a"
      },
      "outputs": [
        {
          "name": "stdout",
          "output_type": "stream",
          "text": [
            "104\n"
          ]
        }
      ],
      "source": [
        "from itertools import count, tee\n",
        "from collections import defaultdict\n",
        "from functools import partial\n",
        "\n",
        "\n",
        "def maplist(df, mapping):\n",
        "    result = []\n",
        "    for element in df:\n",
        "        result.append(mapping[tuple(element)])\n",
        "    return result\n",
        "    \n",
        "\n",
        "mapping = defaultdict(partial(next, count()))\n",
        "developer_groupid_result = maplist(df['developers'], mapping)\n",
        "mapping.clear()\n",
        "publisher_groupid_result = maplist(df['publishers'], mapping)\n",
        "mapping.clear()\n",
        "category_groupid_result = maplist(df['categories'], mapping)\n",
        "mapping.clear()\n",
        "genre_groupid_result = maplist(df['genres'], mapping)\n",
        "mapping.clear()\n",
        "print(min(genre_groupid_result))\n",
        "\n"
      ]
    }
  ],
  "metadata": {
    "colab": {
      "provenance": []
    },
    "kernelspec": {
      "display_name": "Python 3",
      "name": "python3"
    },
    "language_info": {
      "codemirror_mode": {
        "name": "ipython",
        "version": 3
      },
      "file_extension": ".py",
      "mimetype": "text/x-python",
      "name": "python",
      "nbconvert_exporter": "python",
      "pygments_lexer": "ipython3",
      "version": "3.13.0"
    }
  },
  "nbformat": 4,
  "nbformat_minor": 0
}
