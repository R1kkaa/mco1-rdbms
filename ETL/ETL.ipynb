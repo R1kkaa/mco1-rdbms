{
  "cells": [
    {
      "cell_type": "code",
      "execution_count": null,
      "metadata": {
        "colab": {
          "base_uri": "https://localhost:8080/"
        },
        "id": "YbbQwJtf1X9C",
        "outputId": "570f6e5a-039c-460f-83fc-44fe5ff3ddea"
      },
      "outputs": [
        {
          "name": "stdout",
          "output_type": "stream",
          "text": [
            "                          name  release_date required_age  price dlc_count  \\\n",
            "20200         Galactic Bowling  Oct 21, 2008            0  19.99         0   \n",
            "655370            Train Bandit  Oct 12, 2017            0   0.99         0   \n",
            "1732930           Jolt Project  Nov 17, 2021            0   4.99         0   \n",
            "1355720               Henosis™  Jul 23, 2020            0   5.99         0   \n",
            "1139950  Two Weeks in Painland   Feb 3, 2020            0    0.0         0   \n",
            "\n",
            "                                      detailed_description  \\\n",
            "20200    Galactic Bowling is an exaggerated and stylize...   \n",
            "655370   THE LAW!! Looks to be a showdown atop a train....   \n",
            "1732930  Jolt Project: The army now has a new robotics ...   \n",
            "1355720  HENOSIS™ is a mysterious 2D Platform Puzzler w...   \n",
            "1139950  ABOUT THE GAME Play as a hacker who has arrang...   \n",
            "\n",
            "                                            about_the_game  \\\n",
            "20200    Galactic Bowling is an exaggerated and stylize...   \n",
            "655370   THE LAW!! Looks to be a showdown atop a train....   \n",
            "1732930  Jolt Project: The army now has a new robotics ...   \n",
            "1355720  HENOSIS™ is a mysterious 2D Platform Puzzler w...   \n",
            "1139950  ABOUT THE GAME Play as a hacker who has arrang...   \n",
            "\n",
            "                                         short_description reviews  \\\n",
            "20200    Galactic Bowling is an exaggerated and stylize...           \n",
            "655370   THE LAW!! Looks to be a showdown atop a train....           \n",
            "1732930  Shoot vehicles, blow enemies with a special at...           \n",
            "1355720  HENOSIS™ is a mysterious 2D Platform Puzzler w...           \n",
            "1139950  Two Weeks in Painland is a story-driven game a...           \n",
            "\n",
            "                                              header_image  ... score_rank  \\\n",
            "20200    https://cdn.akamai.steamstatic.com/steam/apps/...  ...              \n",
            "655370   https://cdn.akamai.steamstatic.com/steam/apps/...  ...              \n",
            "1732930  https://cdn.akamai.steamstatic.com/steam/apps/...  ...              \n",
            "1355720  https://cdn.akamai.steamstatic.com/steam/apps/...  ...              \n",
            "1139950  https://cdn.akamai.steamstatic.com/steam/apps/...  ...              \n",
            "\n",
            "        positive negative estimated_owners average_playtime_forever  \\\n",
            "20200          6       11        0 - 20000                        0   \n",
            "655370        53        5        0 - 20000                        0   \n",
            "1732930        0        0        0 - 20000                        0   \n",
            "1355720        3        0        0 - 20000                        0   \n",
            "1139950       50        8        0 - 20000                        0   \n",
            "\n",
            "        average_playtime_2weeks median_playtime_forever  \\\n",
            "20200                         0                       0   \n",
            "655370                        0                       0   \n",
            "1732930                       0                       0   \n",
            "1355720                       0                       0   \n",
            "1139950                       0                       0   \n",
            "\n",
            "        median_playtime_2weeks peak_ccu  \\\n",
            "20200                        0        0   \n",
            "655370                       0        0   \n",
            "1732930                      0        0   \n",
            "1355720                      0        0   \n",
            "1139950                      0        0   \n",
            "\n",
            "                                                      tags  \n",
            "20200    {'Indie': 22, 'Casual': 21, 'Sports': 21, 'Bow...  \n",
            "655370   {'Indie': 109, 'Action': 103, 'Pixel Graphics'...  \n",
            "1732930                                                 []  \n",
            "1355720  {'2D Platformer': 161, 'Atmospheric': 154, 'Su...  \n",
            "1139950  {'Indie': 42, 'Adventure': 41, 'Nudity': 22, '...  \n",
            "\n",
            "[5 rows x 41 columns]\n"
          ]
        }
      ],
      "source": [
        "import pandas as pd\n",
        "\n",
        "df = pd.read_json('games.json').transpose()\n",
        "print(df.head())"
      ]
    },
    {
      "cell_type": "code",
      "execution_count": null,
      "metadata": {
        "colab": {
          "base_uri": "https://localhost:8080/"
        },
        "id": "FOKhyNhj3yKd",
        "outputId": "e9b396e2-264d-4375-876f-8c8ef8768e6a"
      },
      "outputs": [
        {
          "name": "stdout",
          "output_type": "stream",
          "text": [
            "20200      {'Indie': 22, 'Casual': 21, 'Sports': 21, 'Bow...\n",
            "655370     {'Indie': 109, 'Action': 103, 'Pixel Graphics'...\n",
            "1732930                                                   []\n",
            "1355720    {'2D Platformer': 161, 'Atmospheric': 154, 'Su...\n",
            "1139950    {'Indie': 42, 'Adventure': 41, 'Nudity': 22, '...\n",
            "                                 ...                        \n",
            "3080940                                                   []\n",
            "2593970                                                   []\n",
            "3137150                                                   []\n",
            "3124670                                                   []\n",
            "3054200                                                   []\n",
            "Name: tags, Length: 97410, dtype: object\n"
          ]
        }
      ],
      "source": [
        "print(df['tags'])"
      ]
    }
  ],
  "metadata": {
    "colab": {
      "provenance": []
    },
    "kernelspec": {
      "display_name": "Python 3",
      "name": "python3"
    },
    "language_info": {
      "name": "python"
    }
  },
  "nbformat": 4,
  "nbformat_minor": 0
}
