{
 "cells": [
  {
   "cell_type": "code",
   "execution_count": 1,
   "metadata": {},
   "outputs": [],
   "source": [
    "import pandas as pd\n",
    "from sqlalchemy import create_engine\n",
    "from dotenv import load_dotenv\n",
    "import os\n",
    "load_dotenv(override=True)\n",
    "engine = create_engine(os.environ.get(\"ALCHEMY_DATABASE_URL\"), connect_args={'connect_timeout': 600})"
   ]
  },
  {
   "cell_type": "markdown",
   "metadata": {},
   "source": [
    "## Query Function"
   ]
  },
  {
   "cell_type": "code",
   "execution_count": 2,
   "metadata": {},
   "outputs": [],
   "source": [
    "#function definition for running queries\n",
    "def run_query(query):\n",
    "    with engine.connect() as connection:\n",
    "        return pd.read_sql(query, connection)"
   ]
  },
  {
   "cell_type": "markdown",
   "metadata": {},
   "source": [
    "## Roll Up"
   ]
  },
  {
   "cell_type": "code",
   "execution_count": null,
   "metadata": {},
   "outputs": [],
   "source": [
    "# Roll Up\n",
    "roll_up_query = \"\"\"\n",
    "SELECT D.year, COUNT(G.id) AS total_games \n",
    "FROM game_fact_table AS G \n",
    "JOIN dimDate D ON G.releaseDate = D.date \n",
    "GROUP BY D.year;\n",
    "\"\"\"\n",
    "roll_up_df = run_query(roll_up_query)\n",
    "print(\"Roll Up Query Result\")\n",
    "print(roll_up_df)"
   ]
  },
  {
   "cell_type": "markdown",
   "metadata": {},
   "source": [
    "## Dice"
   ]
  },
  {
   "cell_type": "code",
   "execution_count": null,
   "metadata": {},
   "outputs": [],
   "source": [
    "# Dice\n",
    "dice_query = \"\"\"\n",
    "SELECT name, price, metacriticScore \n",
    "FROM game_fact_table \n",
    "WHERE price > 20 AND metacriticScore > 80;\n",
    "\"\"\"\n",
    "dice_df = run_query(dice_query)\n",
    "print(\"Dice Query Result\")\n",
    "print(dice_df)"
   ]
  },
  {
   "cell_type": "markdown",
   "metadata": {},
   "source": [
    "## Drill Down"
   ]
  },
  {
   "cell_type": "code",
   "execution_count": null,
   "metadata": {},
   "outputs": [],
   "source": [
    "# Drill Down\n",
    "'''\n",
    "drill_down_query = \"\"\"\n",
    "SELECT G.name, G.reviews, P.name AS publisher \n",
    "FROM game_fact_table AS G \n",
    "JOIN dimPublisher P ON G.dimPublisherId = P.dimPublisherId \n",
    "WHERE P.name = 'Nintendo';\n",
    "\"\"\"\n",
    "drill_down_df = run_query(drill_down_query)\n",
    "print(\"Drill Down Query Result\")\n",
    "print(drill_down_df)\n",
    "drill_down_query = \"\"\"\n",
    "SELECT G.name, G.reviews, P.name AS publisher \n",
    "FROM game_fact_table AS G \n",
    "JOIN dimPublisher P ON G.dimPublisherId = P.dimPublisherId \n",
    "WHERE P.name = 'Nintendo';\n",
    "\"\"\"\n",
    "drill_down_df = run_query(drill_down_query)\n",
    "print(\"Drill Down Query Result\")\n",
    "print(drill_down_df)\n",
    "'''"
   ]
  },
  {
   "cell_type": "markdown",
   "metadata": {},
   "source": [
    "## Slice"
   ]
  },
  {
   "cell_type": "code",
   "execution_count": null,
   "metadata": {},
   "outputs": [],
   "source": [
    "# Slice\n",
    "slice_query = \"\"\"\n",
    "SELECT name, releaseDate, price \n",
    "FROM game_fact_table \n",
    "WHERE releaseDate >= '2022-01-01';\n",
    "\"\"\"\n",
    "slice_df = run_query(slice_query)\n",
    "print(\"Slice Query Result\")\n",
    "print(slice_df)"
   ]
  }
 ],
 "metadata": {
  "kernelspec": {
   "display_name": "Python 3",
   "language": "python",
   "name": "python3"
  },
  "language_info": {
   "codemirror_mode": {
    "name": "ipython",
    "version": 3
   },
   "file_extension": ".py",
   "mimetype": "text/x-python",
   "name": "python",
   "nbconvert_exporter": "python",
   "pygments_lexer": "ipython3",
   "version": "3.12.6"
  }
 },
 "nbformat": 4,
 "nbformat_minor": 2
}
