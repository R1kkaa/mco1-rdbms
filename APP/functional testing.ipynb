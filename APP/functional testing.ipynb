{
 "cells": [
  {
   "cell_type": "code",
   "execution_count": 1,
   "metadata": {},
   "outputs": [],
   "source": [
    "import pandas as pd\n",
    "from sqlalchemy import create_engine\n",
    "from dotenv import load_dotenv\n",
    "import os\n",
    "import time\n",
    "load_dotenv(override=True)\n",
    "engine = create_engine(os.environ.get(\"ALCHEMY_DATABASE_URL\"), connect_args={'connect_timeout': 600})"
   ]
  },
  {
   "cell_type": "markdown",
   "metadata": {},
   "source": [
    "## Query Function"
   ]
  },
  {
   "cell_type": "code",
   "execution_count": 2,
   "metadata": {},
   "outputs": [],
   "source": [
    "#function definition for running queries\n",
    "def run_query(query):\n",
    "    with engine.connect() as connection:\n",
    "        start_time = time.time()  \n",
    "        result = pd.read_sql(query, connection)\n",
    "        end_time = time.time()  \n",
    "        execution_time = end_time - start_time\n",
    "        return result, execution_time"
   ]
  },
  {
   "cell_type": "markdown",
   "metadata": {},
   "source": [
    "## Roll Up"
   ]
  },
  {
   "cell_type": "code",
   "execution_count": 3,
   "metadata": {},
   "outputs": [],
   "source": [
    "expected_roll_up_df = pd.DataFrame({\n",
    "    'year': [2023, 2024, 2025],\n",
    "    'total_games': [15542, 12580, 2]\n",
    "})"
   ]
  },
  {
   "cell_type": "code",
   "execution_count": 4,
   "metadata": {},
   "outputs": [
    {
     "name": "stdout",
     "output_type": "stream",
     "text": [
      "Expected Roll Up Query Result:\n",
      "   year  total_games\n",
      "0  2023        15542\n",
      "1  2024        12580\n",
      "2  2025            2\n",
      "Execution Time: 0.0260 seconds\n",
      "Roll Up Query Result:\n",
      "   year  total_games\n",
      "0  2023        15542\n",
      "1  2024        12580\n",
      "2  2025            2\n",
      "Test Passed: Roll Up query matches the expected result.\n",
      "Execution Time: 0.0260 seconds\n"
     ]
    }
   ],
   "source": [
    "# Roll Up\n",
    "roll_up_query = \"\"\"\n",
    "SELECT D.year, COUNT(G.id) AS total_games \n",
    "FROM game_fact_table AS G \n",
    "JOIN dimDate D ON G.releaseDate = D.date \n",
    "WHERE D.year IN (2023, 2024, 2025)\n",
    "GROUP BY D.year;\n",
    "\"\"\"\n",
    "\n",
    "actual_roll_up_df, roll_up_time = run_query(roll_up_query)\n",
    "print(\"Expected Roll Up Query Result:\")\n",
    "print(expected_roll_up_df)\n",
    "print(f\"Execution Time: {roll_up_time:.4f} seconds\")\n",
    "print(\"Roll Up Query Result:\")\n",
    "print(actual_roll_up_df)\n",
    "\n",
    "if actual_roll_up_df.equals(expected_roll_up_df):\n",
    "    print(\"Test Passed: Roll Up query matches the expected result.\")\n",
    "else:\n",
    "    print(\"Test Failed: Roll Up query does not match the expected result.\")\n",
    "\n",
    "print(f\"Execution Time: {roll_up_time:.4f} seconds\")"
   ]
  },
  {
   "cell_type": "markdown",
   "metadata": {},
   "source": [
    "## Dice"
   ]
  },
  {
   "cell_type": "code",
   "execution_count": 5,
   "metadata": {},
   "outputs": [],
   "source": [
    "expected_dice_df = pd.DataFrame({\n",
    "    'name': ['Multiplayer', 'PvP', 'Rugby'],  \n",
    "    'tag count': [3825, 2434, 1]  \n",
    "})"
   ]
  },
  {
   "cell_type": "code",
   "execution_count": 6,
   "metadata": {},
   "outputs": [
    {
     "name": "stdout",
     "output_type": "stream",
     "text": [
      "Expected Dice Query Result:\n",
      "          name  tag count\n",
      "0  Multiplayer       3825\n",
      "1          PvP       2434\n",
      "2        Rugby          1\n",
      "Execution Time: 1.4350 seconds\n",
      "Dice Query Result:\n",
      "          name  tag count\n",
      "0  Multiplayer       3825\n",
      "1          PvP       2434\n",
      "2        Rugby          1\n",
      "Test Passed: Dice query matches the expected result.\n",
      "Execution Time: 1.4350 seconds\n"
     ]
    }
   ],
   "source": [
    "# Dice\n",
    "dice_query = \"\"\"\n",
    "SELECT t.name, COUNT(t.name) AS 'tag count'\n",
    "FROM game_fact_table g\n",
    "LEFT JOIN dimcategory dc ON g.dimCategoryId = dc.dimCategoryId\n",
    "LEFT JOIN category c on dc.dimCategoryId = c.groupId\n",
    "LEFT JOIN dimtag dt ON dt.dimTagId = g.dimTagId\n",
    "LEFT JOIN tag t ON dt.dimTagId = t.groupId\n",
    "WHERE c.name = 'Online PVP' \n",
    "AND t.name IN ('Multiplayer', 'PvP', 'Rugby')\n",
    "GROUP BY t.name\n",
    "ORDER BY COUNT(t.name) DESC;\n",
    "\"\"\"\n",
    "\n",
    "actual_dice_df, dice_time = run_query(dice_query)\n",
    "print(\"Expected Dice Query Result:\")\n",
    "print(expected_dice_df)\n",
    "print(f\"Execution Time: {dice_time:.4f} seconds\")\n",
    "print(\"Dice Query Result:\")\n",
    "print(actual_dice_df)\n",
    "\n",
    "if actual_dice_df.equals(expected_dice_df):\n",
    "    print(\"Test Passed: Dice query matches the expected result.\")\n",
    "else:\n",
    "    print(\"Test Failed: Dice query does not match the expected result.\")\n",
    "\n",
    "print(f\"Execution Time: {dice_time:.4f} seconds\")"
   ]
  },
  {
   "cell_type": "markdown",
   "metadata": {},
   "source": [
    "## Drill Down"
   ]
  },
  {
   "cell_type": "code",
   "execution_count": 7,
   "metadata": {},
   "outputs": [],
   "source": [
    "expected_drill_down_df = pd.DataFrame({\n",
    "    'game': ['Hogwarts Legacy', 'Sons Of The Forest', 'Resident Evil 4', 'Wo Long: Fallen Dynasty', \"Hero's Adventure\"], \n",
    "    'releaseDate': ['2023-02-10', '2023-02-23', '2023-03-23', '2023-03-03', '2023-03-07'],\n",
    "    'price': [59.99, 29.99, 59.99, 59.99, 15.83],\n",
    "    'quarter': [1, 1, 1, 1, 1],\n",
    "    'estimatedOwners': ['5000000 - 10000000', '2000000 - 5000000', '0 - 20000', '500000 - 1000000', '100000 - 200000'],\n",
    "    'peakCCU': [872138, 405191, 153726, 59368, 28699]\n",
    "})"
   ]
  },
  {
   "cell_type": "code",
   "execution_count": 8,
   "metadata": {},
   "outputs": [
    {
     "name": "stdout",
     "output_type": "stream",
     "text": [
      "Expected Drill Down Query Result:\n",
      "                      game releaseDate  price  quarter     estimatedOwners  \\\n",
      "0          Hogwarts Legacy  2023-02-10  59.99        1  5000000 - 10000000   \n",
      "1       Sons Of The Forest  2023-02-23  29.99        1   2000000 - 5000000   \n",
      "2          Resident Evil 4  2023-03-23  59.99        1           0 - 20000   \n",
      "3  Wo Long: Fallen Dynasty  2023-03-03  59.99        1    500000 - 1000000   \n",
      "4         Hero's Adventure  2023-03-07  15.83        1     100000 - 200000   \n",
      "\n",
      "   peakCCU  \n",
      "0   872138  \n",
      "1   405191  \n",
      "2   153726  \n",
      "3    59368  \n",
      "4    28699  \n",
      "Drill Down Query Result:\n",
      "                      game releaseDate  price  quarter     estimatedOwners  \\\n",
      "0          Hogwarts Legacy  2023-02-10  59.99        1  5000000 - 10000000   \n",
      "1       Sons Of The Forest  2023-02-23  29.99        1   2000000 - 5000000   \n",
      "2          Resident Evil 4  2023-03-23  59.99        1           0 - 20000   \n",
      "3  Wo Long: Fallen Dynasty  2023-03-03  59.99        1    500000 - 1000000   \n",
      "4         Hero's Adventure  2023-03-07  15.83        1     100000 - 200000   \n",
      "\n",
      "   peakCCU  \n",
      "0   872138  \n",
      "1   405191  \n",
      "2   153726  \n",
      "3    59368  \n",
      "4    28699  \n",
      "Execution Time: 0.0120 seconds\n",
      "Test Passed: Drill Down query matches the expected result.\n"
     ]
    }
   ],
   "source": [
    "# Drill Down\n",
    "drill_down_query = \"\"\"\n",
    "SELECT name AS game, releaseDate, price, quarter, estimatedOwners, peakCCU \n",
    "FROM game_fact_table g\n",
    "LEFT JOIN dimDate ddt ON ddt.date = g.releaseDate\n",
    "WHERE ddt.quarter = 1 AND ddt.year = 2023 AND price > 0\n",
    "AND name IN ('Hogwarts Legacy', 'Sons Of The Forest', 'Resident Evil 4', 'Wo Long: Fallen Dynasty', \"Hero's Adventure\")\n",
    "ORDER BY peakCCU DESC;\n",
    "\"\"\"\n",
    "\n",
    "actual_drill_down_df, drilldown_time = run_query(drill_down_query)\n",
    "print(\"Expected Drill Down Query Result:\")\n",
    "print(expected_drill_down_df)\n",
    "print(\"Drill Down Query Result:\")\n",
    "print(actual_drill_down_df)\n",
    "print(f\"Execution Time: {drilldown_time:.4f} seconds\")\n",
    "\n",
    "if actual_drill_down_df.head(5).reset_index(drop=True).astype(str).equals(expected_drill_down_df.astype(str)): #used alternate comparison method as some characters were causing a 'test failed' output\n",
    "    print(\"Test Passed: Drill Down query matches the expected result.\")\n",
    "else:\n",
    "    print(\"Test Failed: Drill Down query does not match the expected result.\")"
   ]
  },
  {
   "cell_type": "markdown",
   "metadata": {},
   "source": [
    "## Slice"
   ]
  },
  {
   "cell_type": "code",
   "execution_count": 9,
   "metadata": {},
   "outputs": [],
   "source": [
    "expected_slice_df = pd.DataFrame({\n",
    "    'game': ['Dota 2'],  \n",
    "    'price': [0.0],\n",
    "    'developer': ['Valve']\n",
    "\n",
    "})"
   ]
  },
  {
   "cell_type": "code",
   "execution_count": 10,
   "metadata": {},
   "outputs": [
    {
     "name": "stdout",
     "output_type": "stream",
     "text": [
      "Expected Slice Query Result:\n",
      "     game  price developer\n",
      "0  Dota 2    0.0     Valve\n",
      "Drill Down Query Result:\n",
      "     game  price developer\n",
      "0  Dota 2    0.0     Valve\n",
      "Execution Time: 0.0020 seconds\n",
      "Test Passed: Slice query matches the expected result.\n"
     ]
    }
   ],
   "source": [
    "# Slice\n",
    "slice_query = \"\"\"\n",
    "SELECT g.name AS game, g.price, de.name AS developer\n",
    "FROM Game_Fact_Table AS g\n",
    "LEFT JOIN dimDeveloper dd ON dd.dimDeveloperId = g.dimDeveloperId\n",
    "LEFT JOIN developer de ON de.groupId = dd.dimDeveloperId\n",
    "WHERE de.name = 'Valve' AND G.reviews !=''\n",
    "ORDER BY game;\n",
    "\"\"\"\n",
    "actual_slice_df, slice_time = run_query(slice_query)\n",
    "print(\"Expected Slice Query Result:\")\n",
    "print(expected_slice_df)\n",
    "print(\"Drill Down Query Result:\")\n",
    "print(actual_slice_df)\n",
    "print(f\"Execution Time: {slice_time:.4f} seconds\")\n",
    "\n",
    "if actual_slice_df.equals(expected_slice_df):\n",
    "    print(\"Test Passed: Slice query matches the expected result.\")\n",
    "else:\n",
    "    print(\"Test Failed: Slice query does not match the expected result.\")"
   ]
  }
 ],
 "metadata": {
  "kernelspec": {
   "display_name": "Python 3",
   "language": "python",
   "name": "python3"
  },
  "language_info": {
   "codemirror_mode": {
    "name": "ipython",
    "version": 3
   },
   "file_extension": ".py",
   "mimetype": "text/x-python",
   "name": "python",
   "nbconvert_exporter": "python",
   "pygments_lexer": "ipython3",
   "version": "3.12.6"
  }
 },
 "nbformat": 4,
 "nbformat_minor": 2
}
