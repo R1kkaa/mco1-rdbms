{
 "cells": [
  {
   "cell_type": "code",
   "execution_count": 1,
   "metadata": {},
   "outputs": [],
   "source": [
    "import pandas as pd\n",
    "from sqlalchemy import create_engine\n",
    "from dotenv import load_dotenv\n",
    "import os\n",
    "load_dotenv(override=True)\n",
    "engine = create_engine(os.environ.get(\"ALCHEMY_DATABASE_URL\"), connect_args={'connect_timeout': 600})"
   ]
  },
  {
   "cell_type": "markdown",
   "metadata": {},
   "source": [
    "## Query Function\n"
   ]
  },
  {
   "cell_type": "code",
   "execution_count": 2,
   "metadata": {},
   "outputs": [],
   "source": [
    "#function definition for running queries\n",
    "def run_query(query):\n",
    "    with engine.connect() as connection:\n",
    "        return pd.read_sql(query, connection)"
   ]
  },
  {
   "cell_type": "markdown",
   "metadata": {},
   "source": [
    "## Roll Up\n"
   ]
  },
  {
   "cell_type": "code",
   "execution_count": 3,
   "metadata": {},
   "outputs": [
    {
     "name": "stdout",
     "output_type": "stream",
     "text": [
      "Roll Up Query Result\n",
      "    year  total_games\n",
      "0   1997            2\n",
      "1   1998            1\n",
      "2   1999            3\n",
      "3   2000            2\n",
      "4   2001            4\n",
      "5   2002            1\n",
      "6   2003            3\n",
      "7   2004            7\n",
      "8   2005            7\n",
      "9   2006           69\n",
      "10  2007          109\n",
      "11  2008          176\n",
      "12  2009          343\n",
      "13  2010          309\n",
      "14  2011          286\n",
      "15  2012          357\n",
      "16  2013          492\n",
      "17  2014         1634\n",
      "18  2015         2693\n",
      "19  2016         4416\n",
      "20  2017         6334\n",
      "21  2018         8183\n",
      "22  2019         7827\n",
      "23  2020         9647\n",
      "24  2021        12392\n",
      "25  2022        13989\n",
      "26  2023        15542\n",
      "27  2024        12580\n",
      "28  2025            2\n"
     ]
    }
   ],
   "source": [
    "# Roll Up\n",
    "roll_up_query = \"\"\"\n",
    "SELECT D.year, COUNT(G.id) AS total_games \n",
    "FROM game_fact_table AS G \n",
    "JOIN dimDate D ON G.releaseDate = D.date \n",
    "GROUP BY D.year;\n",
    "\"\"\"\n",
    "roll_up_df = run_query(roll_up_query)\n",
    "print(\"Roll Up Query Result\")\n",
    "print(roll_up_df)"
   ]
  },
  {
   "cell_type": "markdown",
   "metadata": {},
   "source": [
    "View number of games released per year.\n"
   ]
  },
  {
   "cell_type": "markdown",
   "metadata": {},
   "source": [
    "## Dice\n"
   ]
  },
  {
   "cell_type": "code",
   "execution_count": 20,
   "metadata": {},
   "outputs": [
    {
     "name": "stdout",
     "output_type": "stream",
     "text": [
      "Dice Query Result\n",
      "                  name  tag count\n",
      "0               Action       4724\n",
      "1                Indie       4275\n",
      "2          Multiplayer       3825\n",
      "3               Casual       2718\n",
      "4                  PvP       2434\n",
      "..                 ...        ...\n",
      "430              Rugby          1\n",
      "431  Dynamic Narration          1\n",
      "432             Reboot          1\n",
      "433     Boomer Shooter          1\n",
      "434            Mahjong          1\n",
      "\n",
      "[435 rows x 2 columns]\n"
     ]
    }
   ],
   "source": [
    "# Dice\n",
    "dice_query = \"\"\"\n",
    "SELECT t.name, COUNT(t.name) AS 'tag count'\n",
    "FROM game_fact_table g\n",
    "LEFT JOIN dimcategory dc ON g.dimCategoryId = dc.dimCategoryId\n",
    "LEFT JOIN category c on dc.dimCategoryId = c.groupId\n",
    "LEFT JOIN dimtag dt ON dt.dimTagId = g.dimTagId\n",
    "LEFT JOIN tag t ON dt.dimTagId = t.groupId\n",
    "WHERE c.name = 'Online PVP' \n",
    "GROUP BY t.name\n",
    "ORDER BY COUNT(t.name) DESC;\n",
    "\"\"\"\n",
    "dice_df = run_query(dice_query)\n",
    "print(\"Dice Query Result\")\n",
    "print(dice_df)"
   ]
  },
  {
   "cell_type": "markdown",
   "metadata": {},
   "source": [
    "View the most common tags of the game category \"Online PVP\"\n"
   ]
  },
  {
   "cell_type": "markdown",
   "metadata": {},
   "source": [
    "## Slice\n"
   ]
  },
  {
   "cell_type": "code",
   "execution_count": 19,
   "metadata": {},
   "outputs": [
    {
     "name": "stdout",
     "output_type": "stream",
     "text": [
      "Drill Down Query Result\n",
      "     game  price developer\n",
      "0  Dota 2    0.0     Valve\n"
     ]
    }
   ],
   "source": [
    "# Slice\n",
    "\n",
    "drill_down_query = \"\"\"\n",
    "SELECT g.name AS game, g.price, de.name AS developer\n",
    "FROM Game_Fact_Table AS g\n",
    "LEFT JOIN dimDeveloper dd ON dd.dimDeveloperId = g.dimDeveloperId\n",
    "LEFT JOIN developer de ON de.groupId = dd.dimDeveloperId\n",
    "WHERE de.name = 'Valve' AND G.reviews !=''\n",
    "ORDER BY game;\n",
    "\"\"\"\n",
    "\n",
    "drill_down_df = run_query(drill_down_query)\n",
    "print(\"Slice Query Result\")\n",
    "print(drill_down_df)"
   ]
  },
  {
   "cell_type": "markdown",
   "metadata": {},
   "source": [
    "View games developed by Valve that were reviewed critically by game journals or has reviews present.\n"
   ]
  },
  {
   "cell_type": "markdown",
   "metadata": {},
   "source": [
    "## Drill Down\n"
   ]
  },
  {
   "cell_type": "code",
   "execution_count": 24,
   "metadata": {},
   "outputs": [
    {
     "name": "stdout",
     "output_type": "stream",
     "text": [
      "Slice Query Result\n",
      "                                        game releaseDate  price  quarter  \\\n",
      "0                            Hogwarts Legacy  2023-02-10  59.99        1   \n",
      "1                         Sons Of The Forest  2023-02-23  29.99        1   \n",
      "2                            Resident Evil 4  2023-03-23  59.99        1   \n",
      "3                    Wo Long: Fallen Dynasty  2023-03-03  59.99        1   \n",
      "4                           Hero's Adventure  2023-03-07  15.83        1   \n",
      "...                                      ...         ...    ...      ...   \n",
      "2800                      Little Crab Fisher  2023-03-31   2.99        1   \n",
      "2801                                    Ferb  2023-03-31   5.99        1   \n",
      "2802  I crossed over into the world of magic  2023-03-31   1.39        1   \n",
      "2803                        Robot Lawn Mower  2023-03-31   3.49        1   \n",
      "2804                           Merging Cubes  2023-03-31   3.99        1   \n",
      "\n",
      "         estimatedOwners  peakCCU  \n",
      "0     5000000 - 10000000   872138  \n",
      "1      2000000 - 5000000   405191  \n",
      "2              0 - 20000   153726  \n",
      "3       500000 - 1000000    59368  \n",
      "4        100000 - 200000    28699  \n",
      "...                  ...      ...  \n",
      "2800               0 - 0        0  \n",
      "2801           0 - 20000        0  \n",
      "2802           0 - 20000        0  \n",
      "2803           0 - 20000        0  \n",
      "2804           0 - 20000        0  \n",
      "\n",
      "[2805 rows x 6 columns]\n"
     ]
    }
   ],
   "source": [
    "# Drill Down\n",
    "slice_query = \"\"\"\n",
    "SELECT name AS game, releaseDate, price, quarter, estimatedOwners, peakCCU \n",
    "FROM game_fact_table g\n",
    "LEFT JOIN dimDate ddt ON ddt.date = g.releaseDate\n",
    "WHERE ddt.quarter = 1 AND ddt.year = 2023 AND price > 0\n",
    "ORDER BY peakCCU DESC;\n",
    "\"\"\"\n",
    "slice_df = run_query(slice_query)\n",
    "print(\"Drill Down Query Result\")\n",
    "print(slice_df)"
   ]
  },
  {
   "cell_type": "markdown",
   "metadata": {},
   "source": [
    "View games released on Q1 of 2023 that aren't free and their estimated owners ordered by peakCCU.\n"
   ]
  }
 ],
 "metadata": {
  "kernelspec": {
   "display_name": "Python 3",
   "language": "python",
   "name": "python3"
  },
  "language_info": {
   "codemirror_mode": {
    "name": "ipython",
    "version": 3
   },
   "file_extension": ".py",
   "mimetype": "text/x-python",
   "name": "python",
   "nbconvert_exporter": "python",
   "pygments_lexer": "ipython3",
   "version": "3.13.0"
  }
 },
 "nbformat": 4,
 "nbformat_minor": 2
}
