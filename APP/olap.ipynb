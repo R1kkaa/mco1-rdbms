{
 "cells": [
  {
   "cell_type": "code",
   "execution_count": 1,
   "metadata": {},
   "outputs": [],
   "source": [
    "import pandas as pd\n",
    "from sqlalchemy import create_engine\n",
    "from dotenv import load_dotenv\n",
    "import os\n",
    "load_dotenv(override=True)\n",
    "engine = create_engine(os.environ.get(\"ALCHEMY_DATABASE_URL\"), connect_args={'connect_timeout': 600})"
   ]
  },
  {
   "cell_type": "markdown",
   "metadata": {},
   "source": [
    "## Query Function\n"
   ]
  },
  {
   "cell_type": "code",
   "execution_count": 2,
   "metadata": {},
   "outputs": [],
   "source": [
    "#function definition for running queries\n",
    "def run_query(query):\n",
    "    with engine.connect() as connection:\n",
    "        return pd.read_sql(query, connection)"
   ]
  },
  {
   "cell_type": "markdown",
   "metadata": {},
   "source": [
    "## Roll Up\n"
   ]
  },
  {
   "cell_type": "code",
   "execution_count": 3,
   "metadata": {},
   "outputs": [
    {
     "name": "stdout",
     "output_type": "stream",
     "text": [
      "Roll Up Query Result\n",
      "    year  total_games\n",
      "0   1997            2\n",
      "1   1998            1\n",
      "2   1999            3\n",
      "3   2000            2\n",
      "4   2001            4\n",
      "5   2002            1\n",
      "6   2003            3\n",
      "7   2004            7\n",
      "8   2005            7\n",
      "9   2006           69\n",
      "10  2007          109\n",
      "11  2008          176\n",
      "12  2009          343\n",
      "13  2010          309\n",
      "14  2011          286\n",
      "15  2012          357\n",
      "16  2013          492\n",
      "17  2014         1634\n",
      "18  2015         2693\n",
      "19  2016         4416\n",
      "20  2017         6334\n",
      "21  2018         8183\n",
      "22  2019         7827\n",
      "23  2020         9647\n",
      "24  2021        12392\n",
      "25  2022        13989\n",
      "26  2023        15542\n",
      "27  2024        12580\n",
      "28  2025            2\n"
     ]
    }
   ],
   "source": [
    "# Roll Up\n",
    "roll_up_query = \"\"\"\n",
    "SELECT D.year, COUNT(G.id) AS total_games \n",
    "FROM game_fact_table AS G \n",
    "JOIN dimDate D ON G.releaseDate = D.date \n",
    "GROUP BY D.year;\n",
    "\"\"\"\n",
    "roll_up_df = run_query(roll_up_query)\n",
    "print(\"Roll Up Query Result\")\n",
    "print(roll_up_df)"
   ]
  },
  {
   "cell_type": "markdown",
   "metadata": {},
   "source": [
    "## Dice\n"
   ]
  },
  {
   "cell_type": "code",
   "execution_count": 9,
   "metadata": {},
   "outputs": [
    {
     "name": "stdout",
     "output_type": "stream",
     "text": [
      "Dice Query Result\n",
      "                                       name  price  metacriticScore\n",
      "0          Medieval II: Total War™ Kingdoms  24.99               85\n",
      "1                         BioShock Infinite  29.99               94\n",
      "2               Sid Meier's Civilization® V  29.99               90\n",
      "3              Borderlands Game of the Year  29.99               81\n",
      "4    Total War: EMPIRE – Definitive Edition  24.99               90\n",
      "..                                      ...    ...              ...\n",
      "235                  Dungeons of Hinterberg  26.99               82\n",
      "236                           Blasphemous 2  29.99               83\n",
      "237                        Magical Delicacy  24.99               84\n",
      "238                                  Ultros  22.49               83\n",
      "239       Kunitsu-Gami: Path of the Goddess  49.99               84\n",
      "\n",
      "[240 rows x 3 columns]\n"
     ]
    }
   ],
   "source": [
    "# Dice\n",
    "dice_query = \"\"\"\n",
    "SELECT name, price, metacriticScore \n",
    "FROM game_fact_table \n",
    "WHERE price > 20 AND metacriticScore > 80;\n",
    "\"\"\"\n",
    "dice_df = run_query(dice_query)\n",
    "print(\"Dice Query Result\")\n",
    "print(dice_df)"
   ]
  },
  {
   "cell_type": "markdown",
   "metadata": {},
   "source": [
    "## Drill Down\n"
   ]
  },
  {
   "cell_type": "code",
   "execution_count": 7,
   "metadata": {},
   "outputs": [
    {
     "name": "stdout",
     "output_type": "stream",
     "text": [
      "Drill Down Query Result\n",
      "                                game  price developer\n",
      "0                        Alien Swarm   0.00     Valve\n",
      "1                  Aperture Desk Job   0.00     Valve\n",
      "2     Are you ready for Valve Index?   0.00     Valve\n",
      "3                           Artifact   0.00     Valve\n",
      "4                     Counter-Strike   9.99     Valve\n",
      "5     Counter-Strike: Condition Zero   9.99     Valve\n",
      "6     Counter-Strike: Condition Zero   9.99     Valve\n",
      "7   Counter-Strike: Global Offensive   0.00     Valve\n",
      "8             Counter-Strike: Source   9.99     Valve\n",
      "9                      Day of Defeat   4.99     Valve\n",
      "10             Day of Defeat: Source   9.99     Valve\n",
      "11                Deathmatch Classic   4.99     Valve\n",
      "12                            Dota 2   0.00     Valve\n",
      "13                   Dota Underlords   0.00     Valve\n",
      "14                         Half-Life   9.99     Valve\n",
      "15                       Half-Life 2   9.99     Valve\n",
      "16           Half-Life 2: Deathmatch   4.99     Valve\n",
      "17          Half-Life 2: Episode One   7.99     Valve\n",
      "18          Half-Life 2: Episode Two   7.99     Valve\n",
      "19           Half-Life 2: Lost Coast   0.00     Valve\n",
      "20      Half-Life Deathmatch: Source   9.99     Valve\n",
      "21                   Half-Life: Alyx  59.99     Valve\n",
      "22                 Half-Life: Source   9.99     Valve\n",
      "23                       Left 4 Dead   9.99     Valve\n",
      "24                     Left 4 Dead 2   9.99     Valve\n",
      "25                            Portal   9.99     Valve\n",
      "26                            Portal   9.99     Valve\n",
      "27                          Portal 2   9.99     Valve\n",
      "28                          Portal 2   9.99     Valve\n",
      "29                          Ricochet   4.99     Valve\n",
      "30                  Source Filmmaker   0.00     Valve\n",
      "31            Steam 360 Video Player   0.00     Valve\n",
      "32          SteamVR Performance Test   0.00     Valve\n",
      "33                   Team Fortress 2   0.00     Valve\n",
      "34             Team Fortress Classic   4.99     Valve\n",
      "35                           The Lab   0.00     Valve\n"
     ]
    }
   ],
   "source": [
    "# Drill Down\n",
    "\n",
    "drill_down_query = \"\"\"\n",
    "SELECT g.name AS game, g.price, de.name AS developer\n",
    "FROM Game_Fact_Table AS g\n",
    "LEFT JOIN dimDeveloper dd ON dd.dimDeveloperId = g.dimDeveloperId\n",
    "LEFT JOIN developer de ON de.groupId = dd.dimDeveloperId\n",
    "WHERE de.name = 'Valve' AND G.reviews !='none'\n",
    "ORDER BY game;\n",
    "\"\"\"\n",
    "\n",
    "drill_down_df = run_query(drill_down_query)\n",
    "print(\"Drill Down Query Result\")\n",
    "print(drill_down_df)"
   ]
  },
  {
   "cell_type": "code",
   "execution_count": 5,
   "metadata": {},
   "outputs": [
    {
     "name": "stdout",
     "output_type": "stream",
     "text": [
      "Drill Down Query Result\n",
      "                              game  price publisher\n",
      "0    Dark Messiah of Might & Magic   9.99   Ubisoft\n",
      "1    Dark Messiah of Might & Magic   9.99   Ubisoft\n",
      "2                 Bloody Good Time   4.99   Ubisoft\n",
      "3        Trackmania United Forever  29.99   Ubisoft\n",
      "4       TrackMania Nations Forever   0.00   Ubisoft\n",
      "..                             ...    ...       ...\n",
      "151      Anno 1602 History Edition   4.99   Ubisoft\n",
      "152      Anno 1701 History Edition   4.99   Ubisoft\n",
      "153                     Rocksmith+   0.00   Ubisoft\n",
      "154  Avatar: Frontiers of Pandora™  41.99   Ubisoft\n",
      "155                Myst III: Exile  14.99   Ubisoft\n",
      "\n",
      "[156 rows x 3 columns]\n"
     ]
    }
   ],
   "source": [
    "# Drill Down\n",
    "\n",
    "drill_down_query = \"\"\"\n",
    "SELECT g.name AS game, g.price, pu.name AS publisher\n",
    "FROM Game_Fact_Table AS g\n",
    "LEFT JOIN dimPublisher dp ON dp.dimPublisherId = g.dimpublisherId\n",
    "LEFT JOIN publisher pu ON pu.groupId = dp.dimPublisherId\n",
    "WHERE pu.name = 'Ubisoft'\n",
    "ORDER BY game;\n",
    "\"\"\"\n",
    "\n",
    "drill_down_df_2 = run_query(drill_down_query)\n",
    "print(\"Drill Down Query Result\")\n",
    "print(drill_down_df_2)"
   ]
  },
  {
   "cell_type": "markdown",
   "metadata": {},
   "source": [
    "## Slice\n"
   ]
  },
  {
   "cell_type": "code",
   "execution_count": 8,
   "metadata": {},
   "outputs": [
    {
     "name": "stdout",
     "output_type": "stream",
     "text": [
      "Slice Query Result\n",
      "                               game releaseDate  price\n",
      "0      Borderlands Game of the Year  2023-08-31  29.99\n",
      "1           Train Simulator Classic  2022-04-21  24.99\n",
      "2           Train Simulator Classic  2022-04-21  24.99\n",
      "3           Train Simulator Classic  2022-04-21  24.99\n",
      "4           Train Simulator Classic  2022-04-21  24.99\n",
      "...                             ...         ...    ...\n",
      "42108        Storm Cleaner Playtest  2024-08-27   0.00\n",
      "42109  Spaceborne Fighters Playtest  2024-08-31   0.00\n",
      "42110            NET.CRAWL Playtest  2024-08-30   0.00\n",
      "42111    Food Truck Empire Playtest  2024-08-30   0.00\n",
      "42112               Carbon Playtest  2024-09-01   0.00\n",
      "\n",
      "[42113 rows x 3 columns]\n"
     ]
    }
   ],
   "source": [
    "# Slice\n",
    "slice_query = \"\"\"\n",
    "SELECT name AS game, releaseDate, price \n",
    "FROM game_fact_table \n",
    "WHERE releaseDate >= '2022-01-01';\n",
    "\"\"\"\n",
    "slice_df = run_query(slice_query)\n",
    "print(\"Slice Query Result\")\n",
    "print(slice_df)"
   ]
  },
  {
   "cell_type": "code",
   "execution_count": 4,
   "metadata": {},
   "outputs": [
    {
     "name": "stdout",
     "output_type": "stream",
     "text": [
      "Slice Query Result\n",
      "                                game releaseDate  price\n",
      "0       Borderlands Game of the Year  2023-08-31  29.99\n",
      "1                  the white chamber  2023-09-07   2.99\n",
      "2                      Minigame Game  2023-02-03  13.49\n",
      "3                            Caliber  2023-04-12   0.00\n",
      "4                            SuiCats  2023-10-19   1.99\n",
      "...                              ...         ...    ...\n",
      "15537          Missile Wars Playtest  2023-12-22   0.00\n",
      "15538                  星域商旅 Playtest  2023-12-27   0.00\n",
      "15539        Dark Age Dinos Playtest  2023-12-22   0.00\n",
      "15540  The Lab and Dungeons Playtest  2023-12-26   0.00\n",
      "15541        Locked In Mind Playtest  2023-12-28   0.00\n",
      "\n",
      "[15542 rows x 3 columns]\n"
     ]
    }
   ],
   "source": [
    "# Slice\n",
    "slice_query = \"\"\"\n",
    "SELECT G.name AS game, G.releaseDate, G.price\n",
    "FROM Game_Fact_Table AS G\n",
    "WHERE YEAR(G.releaseDate) = 2023;\n",
    "\"\"\"\n",
    "slice_df = run_query(slice_query)\n",
    "print(\"Slice Query Result\")\n",
    "print(slice_df)"
   ]
  }
 ],
 "metadata": {
  "kernelspec": {
   "display_name": "Python 3",
   "language": "python",
   "name": "python3"
  },
  "language_info": {
   "codemirror_mode": {
    "name": "ipython",
    "version": 3
   },
   "file_extension": ".py",
   "mimetype": "text/x-python",
   "name": "python",
   "nbconvert_exporter": "python",
   "pygments_lexer": "ipython3",
   "version": "3.13.0"
  }
 },
 "nbformat": 4,
 "nbformat_minor": 2
}
