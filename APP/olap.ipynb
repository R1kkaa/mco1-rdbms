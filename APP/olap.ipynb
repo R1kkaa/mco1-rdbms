{
 "cells": [
  {
   "cell_type": "code",
   "execution_count": 1,
   "metadata": {},
   "outputs": [],
   "source": [
    "import pandas as pd\n",
    "from sqlalchemy import create_engine\n",
    "from dotenv import load_dotenv\n",
    "import os\n",
    "load_dotenv(override=True)\n",
    "engine = create_engine(os.environ.get(\"ALCHEMY_DATABASE_URL\"), connect_args={'connect_timeout': 600})"
   ]
  },
  {
   "cell_type": "markdown",
   "metadata": {},
   "source": [
    "## Query Function"
   ]
  },
  {
   "cell_type": "code",
   "execution_count": 2,
   "metadata": {},
   "outputs": [],
   "source": [
    "#function definition for running queries\n",
    "def run_query(query):\n",
    "    with engine.connect() as connection:\n",
    "        return pd.read_sql(query, connection)"
   ]
  },
  {
   "cell_type": "markdown",
   "metadata": {},
   "source": [
    "## Roll Up"
   ]
  },
  {
   "cell_type": "code",
   "execution_count": null,
   "metadata": {},
   "outputs": [],
   "source": [
    "# Roll Up\n",
    "roll_up_query = \"\"\"\n",
    "SELECT D.year, COUNT(G.id) AS total_games \n",
    "FROM game_fact_table AS G \n",
    "JOIN dimDate D ON G.releaseDate = D.date \n",
    "GROUP BY D.year;\n",
    "\"\"\"\n",
    "roll_up_df = run_query(roll_up_query)\n",
    "print(\"Roll Up Query Result\")\n",
    "print(roll_up_df)"
   ]
  },
  {
   "cell_type": "markdown",
   "metadata": {},
   "source": [
    "## Dice"
   ]
  },
  {
   "cell_type": "code",
   "execution_count": null,
   "metadata": {},
   "outputs": [],
   "source": [
    "# Dice\n",
    "dice_query = \"\"\"\n",
    "SELECT name, price, metacriticScore \n",
    "FROM game_fact_table \n",
    "WHERE price > 20 AND metacriticScore > 80;\n",
    "\"\"\"\n",
    "dice_df = run_query(dice_query)\n",
    "print(\"Dice Query Result\")\n",
    "print(dice_df)"
   ]
  },
  {
   "cell_type": "markdown",
   "metadata": {},
   "source": [
    "## Drill Down"
   ]
  },
  {
   "cell_type": "code",
   "execution_count": null,
   "metadata": {},
   "outputs": [],
   "source": [
    "# Drill Down\n",
    "\n",
    "drill_down_query = \"\"\"\n",
    "SELECT G.name AS Game, G.reviews, d.name AS developer \n",
    "FROM Game_Fact_Table AS G, developer AS d\n",
    "INNER JOIN dimDeveloper ON d.groupID = dimDeveloper.dimDeveloperId\n",
    "WHERE D.name = 'Valve' AND G.reviews !='';\n",
    "\"\"\"\n",
    "\n",
    "drill_down_df = run_query(drill_down_query)\n",
    "print(\"Drill Down Query Result\")\n",
    "print(drill_down_df)"
   ]
  },
  {
   "cell_type": "code",
   "execution_count": 3,
   "metadata": {},
   "outputs": [
    {
     "name": "stdout",
     "output_type": "stream",
     "text": [
      "Drill Down Query Result\n",
      "                              game  price publisher\n",
      "0                   Counter-Strike   9.99   Ubisoft\n",
      "1                   Counter-Strike   9.99   Ubisoft\n",
      "2            Team Fortress Classic   4.99   Ubisoft\n",
      "3            Team Fortress Classic   4.99   Ubisoft\n",
      "4                    Day of Defeat   4.99   Ubisoft\n",
      "...                            ...    ...       ...\n",
      "194815          NET.CRAWL Playtest   0.00   Ubisoft\n",
      "194816  Food Truck Empire Playtest   0.00   Ubisoft\n",
      "194817  Food Truck Empire Playtest   0.00   Ubisoft\n",
      "194818             Carbon Playtest   0.00   Ubisoft\n",
      "194819             Carbon Playtest   0.00   Ubisoft\n",
      "\n",
      "[194820 rows x 3 columns]\n"
     ]
    }
   ],
   "source": [
    "# Drill Down\n",
    "\n",
    "drill_down_query = \"\"\"\n",
    "SELECT G.name AS game, G.price, pu.name AS publisher\n",
    "FROM Game_Fact_Table AS G, publisher AS pu\n",
    "INNER JOIN dimPublisher P ON pu.groupID = P.dimPublisherId\n",
    "WHERE pu.name = 'Ubisoft';\n",
    "\"\"\"\n",
    "\n",
    "drill_down_df_2 = run_query(drill_down_query)\n",
    "print(\"Drill Down Query Result\")\n",
    "print(drill_down_df_2)"
   ]
  },
  {
   "cell_type": "markdown",
   "metadata": {},
   "source": [
    "## Slice"
   ]
  },
  {
   "cell_type": "code",
   "execution_count": null,
   "metadata": {},
   "outputs": [],
   "source": [
    "# Slice\n",
    "slice_query = \"\"\"\n",
    "SELECT name AS game, releaseDate, price \n",
    "FROM game_fact_table \n",
    "WHERE releaseDate >= '2022-01-01';\n",
    "\"\"\"\n",
    "slice_df = run_query(slice_query)\n",
    "print(\"Slice Query Result\")\n",
    "print(slice_df)"
   ]
  },
  {
   "cell_type": "code",
   "execution_count": 4,
   "metadata": {},
   "outputs": [
    {
     "name": "stdout",
     "output_type": "stream",
     "text": [
      "Slice Query Result\n",
      "                                game releaseDate  price\n",
      "0       Borderlands Game of the Year  2023-08-31  29.99\n",
      "1                  the white chamber  2023-09-07   2.99\n",
      "2                      Minigame Game  2023-02-03  13.49\n",
      "3                            Caliber  2023-04-12   0.00\n",
      "4                            SuiCats  2023-10-19   1.99\n",
      "...                              ...         ...    ...\n",
      "15537          Missile Wars Playtest  2023-12-22   0.00\n",
      "15538                  星域商旅 Playtest  2023-12-27   0.00\n",
      "15539        Dark Age Dinos Playtest  2023-12-22   0.00\n",
      "15540  The Lab and Dungeons Playtest  2023-12-26   0.00\n",
      "15541        Locked In Mind Playtest  2023-12-28   0.00\n",
      "\n",
      "[15542 rows x 3 columns]\n"
     ]
    }
   ],
   "source": [
    "# Slice\n",
    "slice_query = \"\"\"\n",
    "SELECT G.name AS game, G.releaseDate, G.price\n",
    "FROM Game_Fact_Table AS G\n",
    "WHERE YEAR(G.releaseDate) = 2023;\n",
    "\"\"\"\n",
    "slice_df = run_query(slice_query)\n",
    "print(\"Slice Query Result\")\n",
    "print(slice_df)"
   ]
  }
 ],
 "metadata": {
  "kernelspec": {
   "display_name": "Python 3",
   "language": "python",
   "name": "python3"
  },
  "language_info": {
   "codemirror_mode": {
    "name": "ipython",
    "version": 3
   },
   "file_extension": ".py",
   "mimetype": "text/x-python",
   "name": "python",
   "nbconvert_exporter": "python",
   "pygments_lexer": "ipython3",
   "version": "3.10.6"
  }
 },
 "nbformat": 4,
 "nbformat_minor": 2
}
